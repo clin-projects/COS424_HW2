{
 "metadata": {
  "name": "",
  "signature": "sha256:7958121d1aa04c7fe1116a8797f8d43fba2acb3c2713863104f28e0c374241c0"
 },
 "nbformat": 3,
 "nbformat_minor": 0,
 "worksheets": [
  {
   "cells": [
    {
     "cell_type": "code",
     "collapsed": false,
     "input": [
      "import process as pr\n",
      "import numpy as np\n",
      "import time"
     ],
     "language": "python",
     "metadata": {},
     "outputs": [],
     "prompt_number": 2
    },
    {
     "cell_type": "code",
     "collapsed": false,
     "input": [
      "chr1 = pr.Data(1)\n",
      "chr1.read()"
     ],
     "language": "python",
     "metadata": {},
     "outputs": [],
     "prompt_number": 3
    },
    {
     "cell_type": "code",
     "collapsed": false,
     "input": [
      "chr1.data_extract(strand_binary=True, pos_normalize=False)"
     ],
     "language": "python",
     "metadata": {},
     "outputs": [],
     "prompt_number": 4
    },
    {
     "cell_type": "code",
     "collapsed": false,
     "input": [
      "from sklearn import preprocessing\n",
      "imputer = preprocessing.Imputer(copy=False)\n",
      "imputer.fit_transform(chr1.train_beta);"
     ],
     "language": "python",
     "metadata": {},
     "outputs": [],
     "prompt_number": 5
    },
    {
     "cell_type": "code",
     "collapsed": false,
     "input": [
      "eval_ind = np.intersect1d(chr1.test_non_nan, chr1.sample_nan)\n",
      "y_true = chr1.test_beta[eval_ind]\n",
      "\n",
      "from sklearn.metrics import (explained_variance_score, mean_absolute_error,\n",
      "    mean_squared_error, r2_score)\n",
      "\n",
      "def evaluate(s):\n",
      "    y_pred = s[eval_ind]\n",
      "    print 'explained variance:   ' + str(explained_variance_score(y_true, y_pred))\n",
      "    print 'mean abs error (MAE): ' + str(mean_absolute_error(y_true, y_pred))\n",
      "    print 'mean sq error (MSE):  ' + str(mean_squared_error(y_true, y_pred))\n",
      "    print 'median abs error:     ' + str(median_absolute_error(y_true, y_pred))\n",
      "    print 'R2:  ' + str(r2_score(y_true, y_pred))"
     ],
     "language": "python",
     "metadata": {},
     "outputs": [],
     "prompt_number": 15
    },
    {
     "cell_type": "code",
     "collapsed": false,
     "input": [],
     "language": "python",
     "metadata": {},
     "outputs": [],
     "prompt_number": 6
    }
   ],
   "metadata": {}
  }
 ]
}